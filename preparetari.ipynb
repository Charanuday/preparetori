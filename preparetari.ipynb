{
 "cells": [
  {
   "cell_type": "code",
   "execution_count": 4,
   "id": "8e3a4bb8-0b85-4fa3-927d-fbb325a985e3",
   "metadata": {},
   "outputs": [],
   "source": [
    "import numpy as np \n",
    "a=np.array([1,2,3,4,5])\n",
    "b=np.array([10,20,30,40,50])"
   ]
  },
  {
   "cell_type": "code",
   "execution_count": 5,
   "id": "f551e3d0-ea9a-4b70-afda-f4c302925b87",
   "metadata": {},
   "outputs": [
    {
     "name": "stdout",
     "output_type": "stream",
     "text": [
      "[1 2 3 4 5]\n"
     ]
    }
   ],
   "source": [
    "print(a)"
   ]
  },
  {
   "cell_type": "code",
   "execution_count": 6,
   "id": "608218c0-1e67-43b4-b37c-453c8622e337",
   "metadata": {},
   "outputs": [
    {
     "name": "stdout",
     "output_type": "stream",
     "text": [
      "[10 20 30 40 50]\n"
     ]
    }
   ],
   "source": [
    "print(b)"
   ]
  },
  {
   "cell_type": "code",
   "execution_count": 9,
   "id": "f0063d71-713a-4dc7-9edf-f933eec9f014",
   "metadata": {},
   "outputs": [
    {
     "name": "stdout",
     "output_type": "stream",
     "text": [
      "The sum of a column is: 15\n"
     ]
    }
   ],
   "source": [
    "print(\"The sum of a column is:\",np.sum(a))"
   ]
  },
  {
   "cell_type": "code",
   "execution_count": 10,
   "id": "26d9e16b-9e55-4e1b-8557-bb21c6203a45",
   "metadata": {},
   "outputs": [
    {
     "name": "stdout",
     "output_type": "stream",
     "text": [
      "The maximun value of b is 50\n"
     ]
    }
   ],
   "source": [
    "print(\"The maximun value of b is\",max(b))"
   ]
  },
  {
   "cell_type": "code",
   "execution_count": 11,
   "id": "82627198-76de-40f3-90af-02d13bafa799",
   "metadata": {},
   "outputs": [
    {
     "name": "stdout",
     "output_type": "stream",
     "text": [
      "The manimun value of b is 10\n"
     ]
    }
   ],
   "source": [
    "print(\"The manimun value of b is\",min(b))"
   ]
  },
  {
   "cell_type": "code",
   "execution_count": 20,
   "id": "d0accb0c-c2a5-4bc3-b363-606bd177e4ad",
   "metadata": {},
   "outputs": [
    {
     "name": "stdout",
     "output_type": "stream",
     "text": [
      "ADD [11 22 33 44 55]\n"
     ]
    }
   ],
   "source": [
    "print(\"ADD\",a+b)"
   ]
  },
  {
   "cell_type": "code",
   "execution_count": 21,
   "id": "25a064b3-abf7-487c-a95d-75a7561166d5",
   "metadata": {},
   "outputs": [
    {
     "name": "stdout",
     "output_type": "stream",
     "text": [
      "SUB [ 9 18 27 36 45]\n"
     ]
    }
   ],
   "source": [
    "print(\"SUB\",b-a)"
   ]
  },
  {
   "cell_type": "code",
   "execution_count": 22,
   "id": "9787bf0e-9a06-450c-a15d-48536d868f23",
   "metadata": {},
   "outputs": [
    {
     "name": "stdout",
     "output_type": "stream",
     "text": [
      "MULTI [ 10  40  90 160 250]\n"
     ]
    }
   ],
   "source": [
    "print(\"MULTI\",b*a)"
   ]
  },
  {
   "cell_type": "code",
   "execution_count": 24,
   "id": "6f3281ea-6b30-41cb-a3fa-bd88de80ce30",
   "metadata": {},
   "outputs": [
    {
     "name": "stdout",
     "output_type": "stream",
     "text": [
      "DIV [10. 10. 10. 10. 10.]\n"
     ]
    }
   ],
   "source": [
    "print(\"DIV\",b/a)"
   ]
  },
  {
   "cell_type": "code",
   "execution_count": 65,
   "id": "dcfb4580-589e-4143-b536-220121557acf",
   "metadata": {},
   "outputs": [],
   "source": [
    "import numpy as np \n",
    "import pandas as pd \n",
    "import matplotlib.pyplot as plt"
   ]
  },
  {
   "cell_type": "code",
   "execution_count": 66,
   "id": "30613071-13d9-428e-b1c7-c8541c79b21a",
   "metadata": {},
   "outputs": [],
   "source": [
    "data={\n",
    "    \"Name\":[\"Charan\",\"Adi\",\"Akasha\",\"Parsa\"],\n",
    "    \"reg num\":[1,2,3,4],\n",
    "    \"marks\":[70,30,90,85],\n",
    "    \"addres\":[\"sirsi\",\"Soraba\",\"Soraba\",\"Jade\"]\n",
    "}"
   ]
  },
  {
   "cell_type": "code",
   "execution_count": 67,
   "id": "657e925a-1e63-43d1-83f5-afd8c4f84111",
   "metadata": {},
   "outputs": [
    {
     "data": {
      "text/html": [
       "<div>\n",
       "<style scoped>\n",
       "    .dataframe tbody tr th:only-of-type {\n",
       "        vertical-align: middle;\n",
       "    }\n",
       "\n",
       "    .dataframe tbody tr th {\n",
       "        vertical-align: top;\n",
       "    }\n",
       "\n",
       "    .dataframe thead th {\n",
       "        text-align: right;\n",
       "    }\n",
       "</style>\n",
       "<table border=\"1\" class=\"dataframe\">\n",
       "  <thead>\n",
       "    <tr style=\"text-align: right;\">\n",
       "      <th></th>\n",
       "      <th>Name</th>\n",
       "      <th>reg num</th>\n",
       "      <th>marks</th>\n",
       "      <th>addres</th>\n",
       "    </tr>\n",
       "  </thead>\n",
       "  <tbody>\n",
       "    <tr>\n",
       "      <th>0</th>\n",
       "      <td>Charan</td>\n",
       "      <td>1</td>\n",
       "      <td>70</td>\n",
       "      <td>sirsi</td>\n",
       "    </tr>\n",
       "    <tr>\n",
       "      <th>1</th>\n",
       "      <td>Adi</td>\n",
       "      <td>2</td>\n",
       "      <td>30</td>\n",
       "      <td>Soraba</td>\n",
       "    </tr>\n",
       "    <tr>\n",
       "      <th>2</th>\n",
       "      <td>Akasha</td>\n",
       "      <td>3</td>\n",
       "      <td>90</td>\n",
       "      <td>Soraba</td>\n",
       "    </tr>\n",
       "    <tr>\n",
       "      <th>3</th>\n",
       "      <td>Parsa</td>\n",
       "      <td>4</td>\n",
       "      <td>85</td>\n",
       "      <td>Jade</td>\n",
       "    </tr>\n",
       "  </tbody>\n",
       "</table>\n",
       "</div>"
      ],
      "text/plain": [
       "     Name  reg num  marks  addres\n",
       "0  Charan        1     70   sirsi\n",
       "1     Adi        2     30  Soraba\n",
       "2  Akasha        3     90  Soraba\n",
       "3   Parsa        4     85    Jade"
      ]
     },
     "execution_count": 67,
     "metadata": {},
     "output_type": "execute_result"
    }
   ],
   "source": [
    "df=pd.DataFrame(data)\n",
    "df"
   ]
  },
  {
   "cell_type": "code",
   "execution_count": 56,
   "id": "81b712bd-7d9b-4159-8ddc-275dcbf7bc6d",
   "metadata": {},
   "outputs": [
    {
     "name": "stdout",
     "output_type": "stream",
     "text": [
      "The extramarks of student records is: 0    75\n",
      "1    35\n",
      "2    95\n",
      "3    90\n",
      "Name: marks, dtype: int64\n"
     ]
    }
   ],
   "source": [
    "def add(x):\n",
    "    return x+5\n",
    "extramarks=df[\"marks\"].map(add)\n",
    "print(\"The extramarks of student records is:\",extramarks)"
   ]
  },
  {
   "cell_type": "code",
   "execution_count": 68,
   "id": "409ee88a-e82b-45a3-9250-4bfdfe17d39a",
   "metadata": {},
   "outputs": [
    {
     "ename": "TypeError",
     "evalue": "'Series' object is not callable",
     "output_type": "error",
     "traceback": [
      "\u001b[31m---------------------------------------------------------------------------\u001b[39m",
      "\u001b[31mTypeError\u001b[39m                                 Traceback (most recent call last)",
      "\u001b[36mCell\u001b[39m\u001b[36m \u001b[39m\u001b[32mIn[68]\u001b[39m\u001b[32m, line 5\u001b[39m\n\u001b[32m      3\u001b[39m         \u001b[38;5;28;01mreturn\u001b[39;00m \u001b[38;5;28;01mTrue\u001b[39;00m\n\u001b[32m      4\u001b[39m l1=df[\u001b[33m\"\u001b[39m\u001b[33mmarks\u001b[39m\u001b[33m\"\u001b[39m]\n\u001b[32m----> \u001b[39m\u001b[32m5\u001b[39m \u001b[38;5;28mprint\u001b[39m(\u001b[38;5;28mlist\u001b[39m(\u001b[38;5;28;43mfilter\u001b[39;49m\u001b[43m(\u001b[49m\u001b[43mget\u001b[49m\u001b[43m,\u001b[49m\u001b[43ml1\u001b[49m\u001b[43m)\u001b[49m))\n",
      "\u001b[31mTypeError\u001b[39m: 'Series' object is not callable"
     ]
    }
   ],
   "source": [
    "def get (x):\n",
    "    if x<40:\n",
    "        return True\n",
    "l1=df[\"marks\"]\n",
    "print(list(filter(get,l1)))\n"
   ]
  },
  {
   "cell_type": "code",
   "execution_count": 58,
   "id": "28c3e753-31f7-4d13-9c97-e31cc9c406ef",
   "metadata": {},
   "outputs": [
    {
     "name": "stdout",
     "output_type": "stream",
     "text": [
      "0    False\n",
      "1     True\n",
      "2    False\n",
      "3    False\n",
      "Name: marks, dtype: bool\n"
     ]
    }
   ],
   "source": [
    "filter=df['marks']<40\n",
    "print(filter)"
   ]
  },
  {
   "cell_type": "code",
   "execution_count": null,
   "id": "c73aa01f-2c35-46d8-96be-0247ab654040",
   "metadata": {},
   "outputs": [],
   "source": []
  },
  {
   "cell_type": "code",
   "execution_count": null,
   "id": "52ac6a6e-2fac-44ae-862f-83203032c3bb",
   "metadata": {},
   "outputs": [],
   "source": [
    "plt.scatter(df[\"marks\"],df[\"reg num\"])\n",
    "plt.show()"
   ]
  },
  {
   "cell_type": "code",
   "execution_count": null,
   "id": "de23eb76-3768-423c-af49-d8d417d08946",
   "metadata": {},
   "outputs": [],
   "source": [
    "c=df.groupby([\"marks\",\"reg num\"]).size().unstack().plot(kind='bar')\n",
    "                                                \n",
    "plt.show()"
   ]
  },
  {
   "cell_type": "code",
   "execution_count": null,
   "id": "83104a2b-c7d1-430a-8c18-624d8d825a06",
   "metadata": {},
   "outputs": [],
   "source": []
  }
 ],
 "metadata": {
  "kernelspec": {
   "display_name": "Python 3 (ipykernel)",
   "language": "python",
   "name": "python3"
  },
  "language_info": {
   "codemirror_mode": {
    "name": "ipython",
    "version": 3
   },
   "file_extension": ".py",
   "mimetype": "text/x-python",
   "name": "python",
   "nbconvert_exporter": "python",
   "pygments_lexer": "ipython3",
   "version": "3.13.7"
  }
 },
 "nbformat": 4,
 "nbformat_minor": 5
}
